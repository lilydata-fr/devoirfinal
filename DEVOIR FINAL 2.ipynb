{
  "metadata": {
    "kernelspec": {
      "name": "python",
      "display_name": "Python (Pyodide)",
      "language": "python"
    },
    "language_info": {
      "codemirror_mode": {
        "name": "python",
        "version": 3
      },
      "file_extension": ".py",
      "mimetype": "text/x-python",
      "name": "python",
      "nbconvert_exporter": "python",
      "pygments_lexer": "ipython3",
      "version": "3.8"
    },
    "prev_pub_hash": "90ac80ca41fde58b95f02cc0cfc0a0f2ed3115615ffe1bdfdfc10fd5ffeef9a4"
  },
  "nbformat_minor": 4,
  "nbformat": 4,
  "cells": [
    {
      "cell_type": "markdown",
      "source": "<p style=\"text-align:center\">\n    <a href=\"https://skills.network/?utm_medium=Exinfluencer&utm_source=Exinfluencer&utm_content=000026UJ&utm_term=10006555&utm_id=NA-SkillsNetwork-Channel-SkillsNetworkCoursesIBMDA0321ENSkillsNetwork928-2022-01-01\" target=\"_blank\">\n    <img src=\"https://cf-courses-data.s3.us.cloud-object-storage.appdomain.cloud/assets/logos/SN_web_lightmode.png\" width=\"400\" alt=\"Skills Network Logo\"  />\n    </a>\n</p>\n",
      "metadata": {}
    },
    {
      "cell_type": "markdown",
      "source": "# **Data Wrangling Lab**\n",
      "metadata": {}
    },
    {
      "cell_type": "markdown",
      "source": "Estimated time needed: **45 to 60** minutes\n",
      "metadata": {}
    },
    {
      "cell_type": "markdown",
      "source": "In this assignment you will be performing data wrangling.\n",
      "metadata": {}
    },
    {
      "cell_type": "markdown",
      "source": "## Objectives\n",
      "metadata": {}
    },
    {
      "cell_type": "markdown",
      "source": "In this lab you will perform the following:\n",
      "metadata": {}
    },
    {
      "cell_type": "markdown",
      "source": "-   Identify duplicate values in the dataset.\n\n-   Remove duplicate values from the dataset.\n\n-   Identify missing values in the dataset.\n\n-   Impute the missing values in the dataset.\n\n-   Normalize data in the dataset.\n",
      "metadata": {}
    },
    {
      "cell_type": "markdown",
      "source": "<hr>\n",
      "metadata": {}
    },
    {
      "cell_type": "markdown",
      "source": "## Hands on Lab\n",
      "metadata": {}
    },
    {
      "cell_type": "markdown",
      "source": "Import pandas module.\n",
      "metadata": {}
    },
    {
      "cell_type": "code",
      "source": "# Importer la bibliothèque pandas pour l'analyse de données\nimport pandas as pd\n\n# Importer la bibliothèque warnings pour gérer les avertissements\nimport warnings\n\n# Ignorer les avertissements de dépréciation (si nécessaire)\nwarnings.filterwarnings(\"ignore\", category=DeprecationWarning)\n\n# Essayer d'importer pyarrow, sinon donner une instruction d'installation\ntry:\n    import pyarrow\nexcept ImportError:\n    print(\"PyArrow n'est pas installé. Vous pouvez l'installer avec 'pip install pyarrow'.\")\n",
      "metadata": {
        "trusted": true
      },
      "outputs": [
        {
          "name": "stdout",
          "text": "PyArrow n'est pas installé. Vous pouvez l'installer avec 'pip install pyarrow'.\n",
          "output_type": "stream"
        }
      ],
      "execution_count": 3
    },
    {
      "cell_type": "markdown",
      "source": "Load the dataset into a dataframe.\n",
      "metadata": {}
    },
    {
      "cell_type": "markdown",
      "source": "<h2>Read Data</h2>\n<p>\nWe utilize the <code>pandas.read_csv()</code> function for reading CSV files. However, in this version of the lab, which operates on JupyterLite, the dataset needs to be downloaded to the interface using the provided code below.\n</p>\n",
      "metadata": {}
    },
    {
      "cell_type": "markdown",
      "source": "The functions below will download the dataset into your browser:\n",
      "metadata": {}
    },
    {
      "cell_type": "code",
      "source": "from pyodide.http import pyfetch\n\nasync def download(url, filename):\n    response = await pyfetch(url)\n    if response.status == 200:\n        with open(filename, \"wb\") as f:\n            f.write(await response.bytes())",
      "metadata": {
        "trusted": true
      },
      "outputs": [],
      "execution_count": 4
    },
    {
      "cell_type": "code",
      "source": "file_path = \"https://cf-courses-data.s3.us.cloud-object-storage.appdomain.cloud/IBM-DA0321EN-SkillsNetwork/LargeData/m1_survey_data.csv\"",
      "metadata": {
        "trusted": true
      },
      "outputs": [],
      "execution_count": 5
    },
    {
      "cell_type": "markdown",
      "source": "To obtain the dataset, utilize the download() function as defined above:  \n",
      "metadata": {}
    },
    {
      "cell_type": "code",
      "source": "await download(file_path, \"m1_survey_data.csv\")\nfile_name=\"m1_survey_data.csv\"",
      "metadata": {
        "trusted": true
      },
      "outputs": [],
      "execution_count": 6
    },
    {
      "cell_type": "markdown",
      "source": "Utilize the Pandas method read_csv() to load the data into a dataframe.\n",
      "metadata": {}
    },
    {
      "cell_type": "code",
      "source": "df = pd.read_csv(file_name)",
      "metadata": {
        "trusted": true
      },
      "outputs": [],
      "execution_count": 7
    },
    {
      "cell_type": "markdown",
      "source": "> Note: This version of the lab is working on JupyterLite, which requires the dataset to be downloaded to the interface.While working on the downloaded version of this notebook on their local machines(Jupyter Anaconda), the learners can simply **skip the steps above,** and simply use the URL directly in the `pandas.read_csv()` function. You can uncomment and run the statements in the cell below.\n",
      "metadata": {}
    },
    {
      "cell_type": "code",
      "source": "#df = pd.read_csv(\"https://cf-courses-data.s3.us.cloud-object-storage.appdomain.cloud/IBM-DA0321EN-SkillsNetwork/LargeData/m1_survey_data.csv\")",
      "metadata": {
        "trusted": true
      },
      "outputs": [],
      "execution_count": 8
    },
    {
      "cell_type": "markdown",
      "source": "## Finding duplicates\n",
      "metadata": {}
    },
    {
      "cell_type": "markdown",
      "source": "In this section you will identify duplicate values in the dataset.\n",
      "metadata": {}
    },
    {
      "cell_type": "markdown",
      "source": " Find how many duplicate rows exist in the dataframe.\n",
      "metadata": {}
    },
    {
      "cell_type": "code",
      "source": "# Compter le nombre de lignes dupliquées dans le DataFrame\nduplicate_count = df.duplicated().sum()\n\n# Afficher le nombre de lignes dupliquées\nprint(f\"Le nombre de lignes dupliquées dans le DataFrame est : {duplicate_count}\")\n",
      "metadata": {
        "trusted": true
      },
      "outputs": [
        {
          "name": "stdout",
          "text": "Le nombre de lignes dupliquées dans le DataFrame est : 154\n",
          "output_type": "stream"
        }
      ],
      "execution_count": 9
    },
    {
      "cell_type": "code",
      "source": "import pandas as pd\nimport requests\nfrom io import StringIO\n\n# URL du fichier CSV\nurl = \"https://cf-courses-data.s3.us.cloud-object-storage.appdomain.cloud/IBM-DA0321EN-SkillsNetwork/LargeData/m1_survey_data.csv\"\n\n# Utiliser requests pour récupérer le fichier CSV\nresponse = requests.get(url)\n\n# Vérifier si la requête a réussi\nif response.status_code == 200:\n    # Charger les données dans un DataFrame\n    df = pd.read_csv(StringIO(response.text))\nelse:\n    print(f\"Erreur lors de la récupération des données : {response.status_code}\")\n",
      "metadata": {
        "trusted": true
      },
      "outputs": [
        {
          "name": "stderr",
          "text": "<ipython-input-2-fcb3bb51d9d7>:1: DeprecationWarning: \nPyarrow will become a required dependency of pandas in the next major release of pandas (pandas 3.0),\n(to allow more performant data types, such as the Arrow string type, and better interoperability with other libraries)\nbut was not found to be installed on your system.\nIf this would cause problems for you,\nplease provide us feedback at https://github.com/pandas-dev/pandas/issues/54466\n        \n  import pandas as pd\n",
          "output_type": "stream"
        }
      ],
      "execution_count": 2
    },
    {
      "cell_type": "code",
      "source": "# Vérifier le nombre de doublons dans la colonne 'Respondent'\nduplicated_respondents = df['Respondent'].duplicated().sum()\n\nprint(f\"Nombre de doublons dans la colonne 'Respondent' : {duplicated_respondents}\")\n",
      "metadata": {
        "trusted": true
      },
      "outputs": [
        {
          "name": "stdout",
          "text": "Nombre de doublons dans la colonne 'Respondent' : 154\n",
          "output_type": "stream"
        }
      ],
      "execution_count": 3
    },
    {
      "cell_type": "markdown",
      "source": "## Removing duplicates\n",
      "metadata": {}
    },
    {
      "cell_type": "markdown",
      "source": "Remove the duplicate rows from the dataframe.\n",
      "metadata": {}
    },
    {
      "cell_type": "code",
      "source": "# Supprimer les lignes dupliquées du DataFrame\ndf_cleaned = df.drop_duplicates()\n\n# Si vous voulez modifier le DataFrame original, utilisez inplace=True\n# df.drop_duplicates(inplace=True)\n\n# Afficher le nombre de lignes après la suppression des doublons\nprint(f\"Nombre de lignes après suppression des doublons : {len(df_cleaned)}\")\n# Si vous avez utilisé inplace=True, utilisez len(df) à la place\n",
      "metadata": {
        "trusted": true
      },
      "outputs": [
        {
          "name": "stdout",
          "text": "Nombre de lignes après suppression des doublons : 11398\n",
          "output_type": "stream"
        }
      ],
      "execution_count": 10
    },
    {
      "cell_type": "markdown",
      "source": "Verify if duplicates were actually dropped.\n",
      "metadata": {}
    },
    {
      "cell_type": "code",
      "source": "import pandas as pd\n\n# Charger le dataset (supposons que vous l'ayez déjà fait)\n# df = pd.read_csv(\"https://cf-courses-data.s3.us.cloud-object-storage.appdomain.cloud/IBM-DA0321EN-SkillsNetwork/LargeData/m1_survey_data.csv\")\n\n# Compter le nombre de lignes dupliquées avant suppression\nduplicate_count_before = df.duplicated().sum()\nprint(f\"Nombre de lignes dupliquées avant suppression : {duplicate_count_before}\")\n\n# Supprimer les doublons\ndf = df.drop_duplicates()\nprint(\"Doublons supprimés.\")\n\n# Compter le nombre de lignes dupliquées après suppression\nduplicate_count_after = df.duplicated().sum()\nprint(f\"Nombre de lignes dupliquées après suppression : {duplicate_count_after}\")\n\n# Vérifier le nombre total de lignes\ntotal_rows = df.shape[0]\nprint(f\"Nombre total de lignes dans le DataFrame : {total_rows}\")\n",
      "metadata": {
        "trusted": true
      },
      "outputs": [
        {
          "name": "stdout",
          "text": "Nombre de lignes dupliquées avant suppression : 154\nDoublons supprimés.\nNombre de lignes dupliquées après suppression : 0\nNombre total de lignes dans le DataFrame : 11398\n",
          "output_type": "stream"
        }
      ],
      "execution_count": 21
    },
    {
      "cell_type": "markdown",
      "source": "## Finding Missing values\n",
      "metadata": {}
    },
    {
      "cell_type": "markdown",
      "source": "Find the missing values for all columns.\n",
      "metadata": {}
    },
    {
      "cell_type": "code",
      "source": "# Compter les valeurs manquantes pour chaque colonne\nmissing_values = df.isnull().sum()\n\n# Afficher les résultats\nprint(\"Valeurs manquantes pour chaque colonne :\")\nprint(missing_values[missing_values > 0])\n\n",
      "metadata": {
        "trusted": true
      },
      "outputs": [
        {
          "name": "stdout",
          "text": "Valeurs manquantes pour chaque colonne :\nOpenSource         81\nStudent            51\nEdLevel           112\nUndergradMajor    737\nEduOther          164\n                 ... \nSexuality         542\nEthnicity         675\nDependents        140\nSurveyLength       19\nSurveyEase         14\nLength: 73, dtype: int64\n",
          "output_type": "stream"
        }
      ],
      "execution_count": 22
    },
    {
      "cell_type": "markdown",
      "source": "Find out how many rows are missing in the column 'WorkLoc'\n",
      "metadata": {}
    },
    {
      "cell_type": "code",
      "source": "# Compter les valeurs manquantes dans la colonne 'WorkLoc'\nmissing_workloc = df['WorkLoc'].isnull().sum()\nprint(f\"Nombre de lignes manquantes dans la colonne 'WorkLoc' : {missing_workloc}\")\n",
      "metadata": {
        "trusted": true
      },
      "outputs": [
        {
          "name": "stdout",
          "text": "Nombre de lignes manquantes dans la colonne 'WorkLoc' : 32\n",
          "output_type": "stream"
        }
      ],
      "execution_count": 23
    },
    {
      "cell_type": "markdown",
      "source": "## Imputing missing values\n",
      "metadata": {}
    },
    {
      "cell_type": "markdown",
      "source": "Find the  value counts for the column WorkLoc.\n",
      "metadata": {}
    },
    {
      "cell_type": "code",
      "source": "# Obtenir les comptes de valeurs pour la colonne 'WorkLoc'\nworkloc_counts = df['WorkLoc'].value_counts()\n\n# Afficher les résultats\nprint(workloc_counts)\n\n",
      "metadata": {
        "trusted": true
      },
      "outputs": [
        {
          "name": "stdout",
          "text": "WorkLoc\nOffice                                            6806\nHome                                              3589\nOther place, such as a coworking space or cafe     971\nName: count, dtype: int64\n",
          "output_type": "stream"
        }
      ],
      "execution_count": 24
    },
    {
      "cell_type": "code",
      "source": "# Trouver la catégorie majoritaire dans la colonne 'Employment'\nmajority_employment = df['Employment'].value_counts().idxmax()\nprint(f\"La catégorie majoritaire dans la colonne 'Employment' est : {majority_employment}\")\n",
      "metadata": {
        "trusted": true
      },
      "outputs": [
        {
          "name": "stdout",
          "text": "La catégorie majoritaire dans la colonne 'Employment' est : Employed full-time\n",
          "output_type": "stream"
        }
      ],
      "execution_count": 4
    },
    {
      "cell_type": "code",
      "source": "# Trouver la catégorie avec le nombre minimum de lignes dans la colonne 'UndergradMajor'\nmin_undergrad_major = df['UndergradMajor'].value_counts().idxmin()\nprint(f\"La catégorie avec le nombre minimum de lignes dans la colonne 'UndergradMajor' est : {min_undergrad_major}\")\n",
      "metadata": {
        "trusted": true
      },
      "outputs": [
        {
          "name": "stdout",
          "text": "La catégorie avec le nombre minimum de lignes dans la colonne 'UndergradMajor' est : A health science (ex. nursing, pharmacy, radiology)\n",
          "output_type": "stream"
        }
      ],
      "execution_count": 5
    },
    {
      "cell_type": "code",
      "source": "# Imputer les valeurs manquantes dans 'ConvertedComp' avec la médiane\ndf['ConvertedComp'].fillna(df['ConvertedComp'].median(), inplace=True)\nprint(\"Les valeurs manquantes ont été imputées avec la médiane.\")\n",
      "metadata": {
        "trusted": true
      },
      "outputs": [
        {
          "name": "stderr",
          "text": "<ipython-input-6-c4ed95d9be9d>:2: FutureWarning: A value is trying to be set on a copy of a DataFrame or Series through chained assignment using an inplace method.\nThe behavior will change in pandas 3.0. This inplace method will never work because the intermediate object on which we are setting values always behaves as a copy.\n\nFor example, when doing 'df[col].method(value, inplace=True)', try using 'df.method({col: value}, inplace=True)' or df[col] = df[col].method(value) instead, to perform the operation inplace on the original object.\n\n\n  df['ConvertedComp'].fillna(df['ConvertedComp'].median(), inplace=True)\n",
          "output_type": "stream"
        },
        {
          "name": "stdout",
          "text": "Les valeurs manquantes ont été imputées avec la médiane.\n",
          "output_type": "stream"
        }
      ],
      "execution_count": 6
    },
    {
      "cell_type": "markdown",
      "source": "Identify the value that is most frequent (majority) in the WorkLoc column.\n",
      "metadata": {}
    },
    {
      "cell_type": "code",
      "source": "# Identifier la valeur la plus fréquente dans la colonne WorkLoc\nmost_frequent_workloc = df['WorkLoc'].mode()[0]\nprint(\"La valeur la plus fréquente dans la colonne WorkLoc est :\", most_frequent_workloc)\n",
      "metadata": {
        "trusted": true
      },
      "outputs": [
        {
          "name": "stdout",
          "text": "La valeur la plus fréquente dans la colonne WorkLoc est : Office\n",
          "output_type": "stream"
        }
      ],
      "execution_count": 25
    },
    {
      "cell_type": "markdown",
      "source": "Impute (replace) all the empty rows in the column WorkLoc with the value that you have identified as majority.\n",
      "metadata": {}
    },
    {
      "cell_type": "code",
      "source": "# Imputer les valeurs manquantes dans la colonne WorkLoc avec la valeur majoritaire\ndf['WorkLoc'] = df['WorkLoc'].fillna(most_frequent_workloc)\n\n# Vérifier si les valeurs manquantes ont été remplacées\nmissing_workloc_after_imputation = df['WorkLoc'].isnull().sum()\nprint(\"Nombre de lignes manquantes dans la colonne WorkLoc après imputation :\", missing_workloc_after_imputation)\n",
      "metadata": {
        "trusted": true
      },
      "outputs": [
        {
          "name": "stdout",
          "text": "Nombre de lignes manquantes dans la colonne WorkLoc après imputation : 0\n",
          "output_type": "stream"
        }
      ],
      "execution_count": 27
    },
    {
      "cell_type": "markdown",
      "source": "After imputation there should ideally not be any empty rows in the WorkLoc column.\n",
      "metadata": {}
    },
    {
      "cell_type": "markdown",
      "source": "Verify if imputing was successful.\n",
      "metadata": {}
    },
    {
      "cell_type": "code",
      "source": "# Vérifier le nombre de valeurs manquantes dans la colonne WorkLoc après imputation\nmissing_workloc_after_imputation = df['WorkLoc'].isnull().sum()\n\n# Afficher le résultat\nprint(\"Nombre de lignes manquantes dans la colonne WorkLoc après imputation :\", missing_workloc_after_imputation)\n",
      "metadata": {
        "trusted": true
      },
      "outputs": [
        {
          "name": "stdout",
          "text": "Nombre de lignes manquantes dans la colonne WorkLoc après imputation : 0\n",
          "output_type": "stream"
        }
      ],
      "execution_count": 28
    },
    {
      "cell_type": "markdown",
      "source": "## Normalizing data\n",
      "metadata": {}
    },
    {
      "cell_type": "markdown",
      "source": "There are two columns in the dataset that talk about compensation.\n\nOne is \"CompFreq\". This column shows how often a developer is paid (Yearly, Monthly, Weekly).\n\nThe other is \"CompTotal\". This column talks about how much the developer is paid per Year, Month, or Week depending upon his/her \"CompFreq\". \n\nThis makes it difficult to compare the total compensation of the developers.\n\nIn this section you will create a new column called 'NormalizedAnnualCompensation' which contains the 'Annual Compensation' irrespective of the 'CompFreq'.\n\nOnce this column is ready, it makes comparison of salaries easy.\n",
      "metadata": {}
    },
    {
      "cell_type": "markdown",
      "source": "<hr>\n",
      "metadata": {}
    },
    {
      "cell_type": "markdown",
      "source": "List out the various categories in the column 'CompFreq'\n",
      "metadata": {}
    },
    {
      "cell_type": "code",
      "source": "import pandas as pd\nimport requests\nfrom io import StringIO\n\n# URL du fichier CSV\nurl = \"https://cf-courses-data.s3.us.cloud-object-storage.appdomain.cloud/IBM-DA0321EN-SkillsNetwork/LargeData/m1_survey_data.csv\"\n\n# Utiliser requests pour récupérer le fichier CSV\nresponse = requests.get(url)\n\n# Vérifier si la requête a réussi\nif response.status_code == 200:\n    # Charger les données dans un DataFrame\n    df = pd.read_csv(StringIO(response.text))\n    print(df.columns)  # Afficher les colonnes\nelse:\n    print(f\"Erreur lors de la récupération des données : {response.status_code}\")\n\n\n",
      "metadata": {
        "trusted": true
      },
      "outputs": [
        {
          "name": "stdout",
          "text": "Index(['Respondent', 'MainBranch', 'Hobbyist', 'OpenSourcer', 'OpenSource',\n       'Employment', 'Country', 'Student', 'EdLevel', 'UndergradMajor',\n       'EduOther', 'OrgSize', 'DevType', 'YearsCode', 'Age1stCode',\n       'YearsCodePro', 'CareerSat', 'JobSat', 'MgrIdiot', 'MgrMoney',\n       'MgrWant', 'JobSeek', 'LastHireDate', 'LastInt', 'FizzBuzz',\n       'JobFactors', 'ResumeUpdate', 'CurrencySymbol', 'CurrencyDesc',\n       'CompTotal', 'CompFreq', 'ConvertedComp', 'WorkWeekHrs', 'WorkPlan',\n       'WorkChallenge', 'WorkRemote', 'WorkLoc', 'ImpSyn', 'CodeRev',\n       'CodeRevHrs', 'UnitTests', 'PurchaseHow', 'PurchaseWhat',\n       'LanguageWorkedWith', 'LanguageDesireNextYear', 'DatabaseWorkedWith',\n       'DatabaseDesireNextYear', 'PlatformWorkedWith',\n       'PlatformDesireNextYear', 'WebFrameWorkedWith',\n       'WebFrameDesireNextYear', 'MiscTechWorkedWith',\n       'MiscTechDesireNextYear', 'DevEnviron', 'OpSys', 'Containers',\n       'BlockchainOrg', 'BlockchainIs', 'BetterLife', 'ITperson', 'OffOn',\n       'SocialMedia', 'Extraversion', 'ScreenName', 'SOVisit1st',\n       'SOVisitFreq', 'SOVisitTo', 'SOFindAnswer', 'SOTimeSaved',\n       'SOHowMuchTime', 'SOAccount', 'SOPartFreq', 'SOJobs', 'EntTeams',\n       'SOComm', 'WelcomeChange', 'SONewContent', 'Age', 'Gender', 'Trans',\n       'Sexuality', 'Ethnicity', 'Dependents', 'SurveyLength', 'SurveyEase'],\n      dtype='object')\n",
          "output_type": "stream"
        }
      ],
      "execution_count": 9
    },
    {
      "cell_type": "code",
      "source": "# Afficher les catégories uniques dans la colonne 'CompFreq'\ncomp_freq_categories = df['CompFreq'].unique()\nprint(comp_freq_categories)\n",
      "metadata": {
        "trusted": true
      },
      "outputs": [
        {
          "name": "stdout",
          "text": "['Yearly' 'Monthly' 'Weekly' nan]\n",
          "output_type": "stream"
        }
      ],
      "execution_count": 10
    },
    {
      "cell_type": "markdown",
      "source": "Create a new column named 'NormalizedAnnualCompensation'. Use the hint given below if needed.\n",
      "metadata": {}
    },
    {
      "cell_type": "markdown",
      "source": "Double click to see the **Hint**.\n\n<!--\n\nUse the below logic to arrive at the values for the column NormalizedAnnualCompensation.\n\nIf the CompFreq is Yearly then use the exising value in CompTotal\nIf the CompFreq is Monthly then multiply the value in CompTotal with 12 (months in an year)\nIf the CompFreq is Weekly then multiply the value in CompTotal with 52 (weeks in an year)\n\n-->\n",
      "metadata": {}
    },
    {
      "cell_type": "code",
      "source": "# Créer une nouvelle colonne 'NormalizedAnnualCompensation'\ndef normalize_annual_compensation(row):\n    if pd.isna(row['CompFreq']):\n        return None  # Ou 0 si vous préférez remplacer par 0\n    elif row['CompFreq'] == 'Yearly':\n        return row['ConvertedComp']\n    elif row['CompFreq'] == 'Monthly':\n        return row['ConvertedComp'] * 12\n    elif row['CompFreq'] == 'Weekly':\n        return row['ConvertedComp'] * 52\n    else:\n        return None  # Ou 0 si vous préférez remplacer par 0\n\n# Appliquer la fonction à chaque ligne du DataFrame\ndf['NormalizedAnnualCompensation'] = df.apply(normalize_annual_compensation, axis=1)\n\n# Afficher les premières lignes du DataFrame avec la nouvelle colonne\nprint(df[['CompFreq', 'ConvertedComp', 'NormalizedAnnualCompensation']].head())\n\n",
      "metadata": {
        "trusted": true
      },
      "outputs": [
        {
          "name": "stdout",
          "text": "  CompFreq  ConvertedComp  NormalizedAnnualCompensation\n0   Yearly        61000.0                       61000.0\n1   Yearly        95179.0                       95179.0\n2   Yearly        90000.0                       90000.0\n3  Monthly       455352.0                     5464224.0\n4   Yearly        65277.0                       65277.0\n",
          "output_type": "stream"
        }
      ],
      "execution_count": 11
    },
    {
      "cell_type": "code",
      "source": "# Compter le nombre de valeurs uniques dans la colonne 'CompFreq'\nunique_compfreq = df['CompFreq'].nunique()\nprint(f\"Nombre de valeurs uniques dans la colonne 'CompFreq' : {unique_compfreq}\")\n",
      "metadata": {
        "trusted": true
      },
      "outputs": [
        {
          "name": "stdout",
          "text": "Nombre de valeurs uniques dans la colonne 'CompFreq' : 3\n",
          "output_type": "stream"
        }
      ],
      "execution_count": 7
    },
    {
      "cell_type": "code",
      "source": "# Supprimer les doublons\ndf_unique = df.drop_duplicates()\n\n# Filtrer les répondants payés annuellement\nyearly_respondents = df_unique[df_unique['CompFreq'] == 'Yearly']\n\n# Compter les répondants payés annuellement\nnum_yearly_respondents = yearly_respondents.shape[0]\nprint(f\"Nombre de répondants payés annuellement : {num_yearly_respondents}\")\n",
      "metadata": {
        "trusted": true
      },
      "outputs": [
        {
          "name": "stdout",
          "text": "Nombre de répondants payés annuellement : 6073\n",
          "output_type": "stream"
        }
      ],
      "execution_count": 8
    },
    {
      "cell_type": "code",
      "source": "import requests\nimport pandas as pd\n\n# URL du fichier CSV\nurl = \"https://cf-courses-data.s3.us.cloud-object-storage.appdomain.cloud/IBM-DA0321EN-SkillsNetwork/LargeData/m1_survey_data.csv\"\n\n# Télécharger le fichier\nresponse = requests.get(url)\n\n# Vérifier si la requête a réussi\nif response.status_code == 200:\n    # Enregistrer le contenu dans un fichier local\n    with open(\"survey_data.csv\", \"wb\") as file:\n        file.write(response.content)\n\n    # Charger les données dans un DataFrame\n    df = pd.read_csv(\"survey_data.csv\")\n\n    # Créer la colonne 'NormalizedAnnualCompensation'\n    df['NormalizedAnnualCompensation'] = df.apply(\n        lambda row: row['ConvertedComp'] * 12 if row['CompFreq'] == 'Monthly' else\n                    row['ConvertedComp'] * 52 if row['CompFreq'] == 'Weekly' else\n                    row['ConvertedComp'], axis=1)\n\n    # Vérifier si la colonne a été créée correctement\n    print(df[['CompFreq', 'ConvertedComp', 'NormalizedAnnualCompensation']].head())\n\n    # Retirer les valeurs manquantes dans 'NormalizedAnnualCompensation'\n    normalized_comp_cleaned = df['NormalizedAnnualCompensation'].dropna()\n\n    # Calculer la médiane\n    median_normalized_comp = normalized_comp_cleaned.median()\n\n    print(f\"La rémunération annuelle normalisée médiane est : {median_normalized_comp}\")\nelse:\n    print(f\"Erreur lors du téléchargement du fichier : {response.status_code}\")\n\n",
      "metadata": {
        "trusted": true
      },
      "outputs": [
        {
          "name": "stdout",
          "text": "  CompFreq  ConvertedComp  NormalizedAnnualCompensation\n0   Yearly        61000.0                       61000.0\n1   Yearly        95179.0                       95179.0\n2   Yearly        90000.0                       90000.0\n3  Monthly       455352.0                     5464224.0\n4   Yearly        65277.0                       65277.0\nLa rémunération annuelle normalisée médiane est : 110000.0\n",
          "output_type": "stream"
        }
      ],
      "execution_count": 13
    },
    {
      "cell_type": "markdown",
      "source": "## Authors\n",
      "metadata": {}
    },
    {
      "cell_type": "markdown",
      "source": "Ramesh Sannareddy\n",
      "metadata": {}
    },
    {
      "cell_type": "markdown",
      "source": "### Other Contributors\n",
      "metadata": {}
    },
    {
      "cell_type": "markdown",
      "source": "Rav Ahuja\n",
      "metadata": {}
    },
    {
      "cell_type": "markdown",
      "source": " Copyright © 2020 IBM Corporation. This notebook and its source code are released under the terms of the [MIT License](https://cognitiveclass.ai/mit-license?utm_medium=Exinfluencer&utm_source=Exinfluencer&utm_content=000026UJ&utm_term=10006555&utm_id=NA-SkillsNetwork-Channel-SkillsNetworkCoursesIBMDA0321ENSkillsNetwork928-2022-01-01&cm_mmc=Email_Newsletter-_-Developer_Ed%2BTech-_-WW_WW-_-SkillsNetwork-Courses-IBM-DA0321EN-SkillsNetwork-21426264&cm_mmca1=000026UJ&cm_mmca2=10006555&cm_mmca3=M12345678&cvosrc=email.Newsletter.M12345678&cvo_campaign=000026UJ).\n",
      "metadata": {}
    },
    {
      "cell_type": "markdown",
      "source": "<!--## Change Log\n",
      "metadata": {}
    },
    {
      "cell_type": "markdown",
      "source": "<!--| Date (YYYY-MM-DD) | Version | Changed By        | Change Description                 |\n| ----------------- | ------- | ----------------- | ---------------------------------- |\n| 2020-10-17        | 0.1     | Ramesh Sannareddy | Created initial version of the lab |--!>\n",
      "metadata": {}
    }
  ]
}